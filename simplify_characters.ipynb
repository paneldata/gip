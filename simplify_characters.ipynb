{
 "cells": [
  {
   "cell_type": "code",
   "execution_count": 1,
   "metadata": {},
   "outputs": [],
   "source": [
    "import os\n",
    "import codecs\n",
    "import string"
   ]
  },
  {
   "cell_type": "code",
   "execution_count": 2,
   "metadata": {},
   "outputs": [],
   "source": [
    "DPATH = os.path.join(\"ddionrails\", \"datasets\")"
   ]
  },
  {
   "cell_type": "code",
   "execution_count": 3,
   "metadata": {},
   "outputs": [
    {
     "ename": "AttributeError",
     "evalue": "module 'posixpath' has no attribute 'fi'",
     "output_type": "error",
     "traceback": [
      "\u001b[0;31m---------------------------------------------------------------------------\u001b[0m",
      "\u001b[0;31mAttributeError\u001b[0m                            Traceback (most recent call last)",
      "\u001b[0;32m<ipython-input-3-6cc2ae2e285c>\u001b[0m in \u001b[0;36m<module>\u001b[0;34m()\u001b[0m\n\u001b[0;32m----> 1\u001b[0;31m \u001b[0mos\u001b[0m\u001b[0;34m.\u001b[0m\u001b[0mpath\u001b[0m\u001b[0;34m.\u001b[0m\u001b[0mfi\u001b[0m\u001b[0;34m\u001b[0m\u001b[0;34m\u001b[0m\u001b[0m\n\u001b[0m",
      "\u001b[0;31mAttributeError\u001b[0m: module 'posixpath' has no attribute 'fi'"
     ]
    }
   ],
   "source": [
    "os.path.fi"
   ]
  },
  {
   "cell_type": "code",
   "execution_count": null,
   "metadata": {},
   "outputs": [],
   "source": [
    "replacements = {\n",
    "    \"Ä\": \"Ae\",\n",
    "    \"Ö\": \"Oe\",\n",
    "    \"Ü\": \"Ue\",\n",
    "    \"ä\": \"ae\",\n",
    "    \"ö\": \"oe\",\n",
    "    \"ü\": \"ue\",\n",
    "    \"ß\": \"ss\",\n",
    "    \"’\": \"'\",\n",
    "    \"“\": \"\\\"\",\n",
    "    \"„\": \"\\\"\",\n",
    "}"
   ]
  },
  {
   "cell_type": "code",
   "execution_count": null,
   "metadata": {},
   "outputs": [],
   "source": [
    "def test_file(filename):\n",
    "    filepath = os.path.join(DPATH, filename)\n",
    "    print(f\"[INFO] Test {filename} ...\")\n",
    "    try:\n",
    "        content = codecs.open(filepath, encoding=\"utf-8\", errors=\"strict\").read()\n",
    "        questionable_characters = set()\n",
    "        for x in content:\n",
    "            if x not in string.printable:\n",
    "                questionable_characters.add(x)\n",
    "        print(f\"[INFO] - Import successful\")\n",
    "        if len(questionable_characters) > 0:\n",
    "            print(f\"[WARNING] Questionable characters remaining: {questionable_characters}\")\n",
    "    except:\n",
    "        print(f\"[ERROR] Error parsing {filename}\")\n",
    "\n",
    "\n",
    "def process_file(filename):\n",
    "    filepath = os.path.join(DPATH, filename)\n",
    "    print(f\"[INFO] Process {filename} ...\")\n",
    "    try:\n",
    "        content = codecs.open(filepath, encoding=\"utf-8\", errors=\"strict\").read()\n",
    "        with codecs.open(os.path.join(\"temp\", filename), \"w+\", encoding=\"utf-8\") as f:\n",
    "            f.write(content)\n",
    "        questionable_characters = set()\n",
    "        for old, new in replacements.items():\n",
    "            content = content.replace(old, new)\n",
    "        for x in content:\n",
    "            if x not in string.printable:\n",
    "                questionable_characters.add(x)\n",
    "        print(f\"[INFO] - Import successful\")\n",
    "        if len(questionable_characters) > 0:\n",
    "            print(f\"[WARNING] Questionable characters remaining: {questionable_characters}\")\n",
    "        with codecs.open(filepath, \"w+\", encoding=\"utf-8\") as f:\n",
    "            f.write(content)\n",
    "        print(f\"[INFO] - Export successful\")\n",
    "    except:\n",
    "        print(f\"[ERROR] Error parsing {filename}\")\n",
    "\n",
    "for filename in os.listdir(DPATH):\n",
    "    test_file(filename)\n",
    "    process_file(filename)\n"
   ]
  },
  {
   "cell_type": "code",
   "execution_count": null,
   "metadata": {},
   "outputs": [],
   "source": [
    "os.listdir(DPATH)"
   ]
  },
  {
   "cell_type": "code",
   "execution_count": null,
   "metadata": {},
   "outputs": [],
   "source": []
  }
 ],
 "metadata": {
  "kernelspec": {
   "display_name": "Python 3",
   "language": "python",
   "name": "python3"
  },
  "language_info": {
   "codemirror_mode": {
    "name": "ipython",
    "version": 3
   },
   "file_extension": ".py",
   "mimetype": "text/x-python",
   "name": "python",
   "nbconvert_exporter": "python",
   "pygments_lexer": "ipython3",
   "version": "3.6.9"
  }
 },
 "nbformat": 4,
 "nbformat_minor": 2
}
