{
 "cells": [
  {
   "cell_type": "code",
   "execution_count": 1,
   "metadata": {},
   "outputs": [],
   "source": [
    "import os\n",
    "import codecs\n",
    "import string"
   ]
  },
  {
   "cell_type": "code",
   "execution_count": 2,
   "metadata": {},
   "outputs": [],
   "source": [
    "DPATH = os.path.join(\"ddionrails\", \"datasets\")"
   ]
  },
  {
   "cell_type": "code",
   "execution_count": null,
   "metadata": {},
   "outputs": [],
   "source": [
    "os.path.fi"
   ]
  },
  {
   "cell_type": "code",
   "execution_count": 3,
   "metadata": {},
   "outputs": [],
   "source": [
    "replacements = {\n",
    "    \"Ä\": \"Ae\",\n",
    "    \"Ö\": \"Oe\",\n",
    "    \"Ü\": \"Ue\",\n",
    "    \"ä\": \"ae\",\n",
    "    \"ö\": \"oe\",\n",
    "    \"ü\": \"ue\",\n",
    "    \"ß\": \"ss\",\n",
    "    \"’\": \"'\",\n",
    "    \"“\": \"\\\"\",\n",
    "    \"„\": \"\\\"\",\n",
    "}"
   ]
  },
  {
   "cell_type": "code",
   "execution_count": 10,
   "metadata": {},
   "outputs": [
    {
     "name": "stdout",
     "output_type": "stream",
     "text": [
      "[INFO] Test GIP_W38_V1.json ...\n",
      "[INFO] - Import successful\n",
      "[WARNING] Questionable characters remaining: {'ä', '„', 'ü', 'Ö', 'Ä', 'ß', '“', '’', 'Ü', 'ö'}\n",
      "[INFO] - Export successful\n",
      "[INFO] Process GIP_W38_V1.json ...\n",
      "[INFO] - Import successful\n",
      "[INFO] - Export successful\n",
      "[INFO] Test GIP_W36_V1.json ...\n",
      "[INFO] - Import successful\n",
      "[WARNING] Questionable characters remaining: {'ä', '„', 'ü', 'Ö', 'ß', '“', '’', 'ö'}\n",
      "[INFO] - Export successful\n",
      "[INFO] Process GIP_W36_V1.json ...\n",
      "[INFO] - Import successful\n",
      "[INFO] - Export successful\n",
      "[INFO] Test GIP_W35_V1.json ...\n",
      "[INFO] - Import successful\n",
      "[WARNING] Questionable characters remaining: {'ä', '„', 'ü', 'Ö', 'ß', '“', 'ö'}\n",
      "[INFO] - Export successful\n",
      "[INFO] Process GIP_W35_V1.json ...\n",
      "[INFO] - Import successful\n",
      "[INFO] - Export successful\n",
      "[INFO] Test GIP_W37_V1.json ...\n",
      "[INFO] - Import successful\n",
      "[WARNING] Questionable characters remaining: {'ä', '„', 'ü', 'Ö', 'ß', '“', 'ö'}\n",
      "[INFO] - Export successful\n",
      "[INFO] Process GIP_W37_V1.json ...\n",
      "[INFO] - Import successful\n",
      "[INFO] - Export successful\n"
     ]
    }
   ],
   "source": [
    "def test_file(filename):\n",
    "    filepath = os.path.join(DPATH, filename)\n",
    "    print(f\"[INFO] Test {filename} ...\")\n",
    "    try:\n",
    "        content = codecs.open(filepath, encoding=\"utf-8\", errors=\"strict\").read()\n",
    "        questionable_characters = set()\n",
    "        for x in content:\n",
    "            if x not in string.printable:\n",
    "                questionable_characters.add(x)\n",
    "        print(f\"[INFO] - Import successful\")\n",
    "        if len(questionable_characters) > 0:\n",
    "            print(f\"[WARNING] Questionable characters remaining: {questionable_characters}\")\n",
    "        print(f\"[INFO] - Export successful\")\n",
    "    except:\n",
    "        print(f\"[ERROR] Error parsing {filename}\")\n",
    "\n",
    "\n",
    "def process_file(filename):\n",
    "    filepath = os.path.join(DPATH, filename)\n",
    "    print(f\"[INFO] Process {filename} ...\")\n",
    "    try:\n",
    "        content = codecs.open(filepath, encoding=\"utf-8\", errors=\"strict\").read()\n",
    "        with codecs.open(os.path.join(\"temp\", filename), \"w+\", encoding=\"utf-8\") as f:\n",
    "            f.write(content)\n",
    "        questionable_characters = set()\n",
    "        for old, new in replacements.items():\n",
    "            content = content.replace(old, new)\n",
    "        for x in content:\n",
    "            if x not in string.printable:\n",
    "                questionable_characters.add(x)\n",
    "        print(f\"[INFO] - Import successful\")\n",
    "        if len(questionable_characters) > 0:\n",
    "            print(f\"[WARNING] Questionable characters remaining: {questionable_characters}\")\n",
    "        with codecs.open(filepath, \"w+\", encoding=\"utf-8\") as f:\n",
    "            f.write(content)\n",
    "        print(f\"[INFO] - Export successful\")\n",
    "    except:\n",
    "        print(f\"[ERROR] Error parsing {filename}\")\n",
    "\n",
    "for filename in os.listdir(DPATH):\n",
    "    test_file(filename)\n",
    "    process_file(filename)\n"
   ]
  },
  {
   "cell_type": "code",
   "execution_count": 8,
   "metadata": {},
   "outputs": [
    {
     "data": {
      "text/plain": [
       "['GIP_W38_V1.json', 'GIP_W36_V1.json', 'GIP_W35_V1.json', 'GIP_W37_V1.json']"
      ]
     },
     "execution_count": 8,
     "metadata": {},
     "output_type": "execute_result"
    }
   ],
   "source": [
    "os.listdir(DPATH)"
   ]
  },
  {
   "cell_type": "code",
   "execution_count": null,
   "metadata": {},
   "outputs": [],
   "source": []
  }
 ],
 "metadata": {
  "kernelspec": {
   "display_name": "Python 3",
   "language": "python",
   "name": "python3"
  },
  "language_info": {
   "codemirror_mode": {
    "name": "ipython",
    "version": 3
   },
   "file_extension": ".py",
   "mimetype": "text/x-python",
   "name": "python",
   "nbconvert_exporter": "python",
   "pygments_lexer": "ipython3",
   "version": "3.6.9"
  }
 },
 "nbformat": 4,
 "nbformat_minor": 2
}
